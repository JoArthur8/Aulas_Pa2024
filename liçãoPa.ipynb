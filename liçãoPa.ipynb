{
  "nbformat": 4,
  "nbformat_minor": 0,
  "metadata": {
    "colab": {
      "provenance": [],
      "authorship_tag": "ABX9TyM4meOFDt4FLuaKXmVMrJsZ",
      "include_colab_link": true
    },
    "kernelspec": {
      "name": "python3",
      "display_name": "Python 3"
    },
    "language_info": {
      "name": "python"
    }
  },
  "cells": [
    {
      "cell_type": "markdown",
      "metadata": {
        "id": "view-in-github",
        "colab_type": "text"
      },
      "source": [
        "<a href=\"https://colab.research.google.com/github/JoArthur8/Aulas_Pa2024/blob/main/li%C3%A7%C3%A3oPa.ipynb\" target=\"_parent\"><img src=\"https://colab.research.google.com/assets/colab-badge.svg\" alt=\"Open In Colab\"/></a>"
      ]
    },
    {
      "cell_type": "markdown",
      "source": [
        "leia a cotação de dólar. 4,98\n",
        "leia o valor que quer converter em dólar\n",
        "convertaq esse valor para dólar\n",
        "mostre o resultado\n"
      ],
      "metadata": {
        "id": "z0u4p0V1Zosk"
      }
    },
    {
      "cell_type": "markdown",
      "source": [
        "![image.png](data:image/png;base64,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)"
      ],
      "metadata": {
        "id": "l3DOp5Ckh1Y_"
      }
    },
    {
      "cell_type": "code",
      "execution_count": null,
      "metadata": {
        "colab": {
          "base_uri": "https://localhost:8080/"
        },
        "id": "qOcfwy3DY6oD",
        "outputId": "435b756a-f31c-40f7-92ed-1b664e18d659"
      },
      "outputs": [
        {
          "output_type": "stream",
          "name": "stdout",
          "text": [
            "Digite o valor de reais que deseja converter:100\n",
            "O valor convertido é: 20.08032128514056\n"
          ]
        }
      ],
      "source": [
        "dolar= float (4.98)\n",
        "real = float(input(\"Digite o valor de reais que deseja converter:\"))\n",
        "cnv= (real/dolar)\n",
        "print (\"O valor convertido é:\", cnv)"
      ]
    },
    {
      "cell_type": "code",
      "source": [
        "a= float(input(\"Dê o primeiro valor:\"))\n",
        "b= float(input(\"Dê o segundo valor:\"))\n",
        "c= float(input(\"Dê o terceiro valor:\"))\n",
        "d= float(input(\"Dê o quarto valor:\"))\n",
        "e= ((a*a)+(b*b)+(c*c)+(d*d))\n",
        "print (\"A soma de seus quadrados é:\", e)"
      ],
      "metadata": {
        "colab": {
          "base_uri": "https://localhost:8080/"
        },
        "id": "mx1XLuBpcpzN",
        "outputId": "c97e686c-e009-4e33-dd84-6ff2eedb9b5e"
      },
      "execution_count": null,
      "outputs": [
        {
          "output_type": "stream",
          "name": "stdout",
          "text": [
            "Dê o primeiro valor:10\n",
            "Dê o segundo valor:20\n",
            "Dê o terceiro valor:15\n",
            "Dê o quarto valor:12\n",
            "A soma de seus quadrados é: 869.0\n"
          ]
        }
      ]
    },
    {
      "cell_type": "code",
      "source": [
        "valorb= float(input(\"Dê o valor base da peça:\"))\n",
        "qntd= float (input( \"Informe a quantidade vendida:\"))\n",
        "comss= (valorb*qntd) * 0.05\n",
        "print (\"O valor de sua comissão é: \", comss)"
      ],
      "metadata": {
        "colab": {
          "base_uri": "https://localhost:8080/"
        },
        "id": "At0nkFQ2utU2",
        "outputId": "a064704f-a604-408a-cfca-fb7c9282c8cb"
      },
      "execution_count": null,
      "outputs": [
        {
          "output_type": "stream",
          "name": "stdout",
          "text": [
            "Dê o valor base da peça:100\n",
            "Informe a quantidade vendida:1\n",
            "O valor de sua comissão é:  5.0\n"
          ]
        }
      ]
    },
    {
      "cell_type": "code",
      "source": [
        "custoo= float(input(\"Dê o custo de fábrica do carro desejado:\"))\n",
        "dper= 1.28\n",
        "cper= 1.45\n",
        "custoA= custoo*cper\n",
        "custoB= custoA*dper\n",
        "custoC= round(custoB, 2)\n",
        "print(\"O preço final de seu carro é:\", custoC)"
      ],
      "metadata": {
        "colab": {
          "base_uri": "https://localhost:8080/"
        },
        "id": "nR53JOl9C_Q8",
        "outputId": "01af915d-523e-47c6-d287-480542da7196"
      },
      "execution_count": 9,
      "outputs": [
        {
          "output_type": "stream",
          "name": "stdout",
          "text": [
            "Dê o custo de fábrica do carro desejado:21414313\n",
            "O preço final de seu carro é: 39744964.93\n"
          ]
        }
      ]
    },
    {
      "cell_type": "code",
      "source": [
        "a=int (input(\"Digite o valor de horas:\"))\n",
        "b=int (input(\"Digite o valor de minutos:\"))\n",
        "c= a + (b/60)\n",
        "d= c*3600\n",
        "print (\"A quantidade de segundos descrita é de:\", d)\n"
      ],
      "metadata": {
        "colab": {
          "base_uri": "https://localhost:8080/"
        },
        "id": "YXkj5mLPFnG3",
        "outputId": "b16201cb-a5ff-4245-a9a1-29ee8daaf38c"
      },
      "execution_count": 4,
      "outputs": [
        {
          "output_type": "stream",
          "name": "stdout",
          "text": [
            "Digite o valor de horas:1\n",
            "Digite o valor de minutos:0\n",
            "A quantidade de segundos descrita é de: 3600.0\n"
          ]
        }
      ]
    },
    {
      "cell_type": "code",
      "source": [
        "hr= float(input(\"Quantas horas extras foram trabalhadas?\"))\n",
        "mnA= float(input(\"Quantos minutos extras foram trabalhados?\"))\n",
        "ganhas= float(input(\"Quanto você ganha por hora?\"))\n",
        "Money= round( (((hr+(mnA/60))*ganhas)*1.7),2)\n",
        "print(\"Você ganhará uma quantidade extra de:\", Money)"
      ],
      "metadata": {
        "colab": {
          "base_uri": "https://localhost:8080/",
          "height": 373
        },
        "id": "1Utm0ehLHpVD",
        "outputId": "d059800d-508d-422e-a471-a7f6e52d593f"
      },
      "execution_count": 20,
      "outputs": [
        {
          "output_type": "error",
          "ename": "KeyboardInterrupt",
          "evalue": "Interrupted by user",
          "traceback": [
            "\u001b[0;31m---------------------------------------------------------------------------\u001b[0m",
            "\u001b[0;31mKeyboardInterrupt\u001b[0m                         Traceback (most recent call last)",
            "\u001b[0;32m<ipython-input-20-ab9a5f33b0e9>\u001b[0m in \u001b[0;36m<cell line: 1>\u001b[0;34m()\u001b[0m\n\u001b[0;32m----> 1\u001b[0;31m \u001b[0mhr\u001b[0m\u001b[0;34m=\u001b[0m \u001b[0mfloat\u001b[0m\u001b[0;34m(\u001b[0m\u001b[0minput\u001b[0m\u001b[0;34m(\u001b[0m\u001b[0;34m\"Quantas horas extras foram trabalhadas?\"\u001b[0m\u001b[0;34m)\u001b[0m\u001b[0;34m)\u001b[0m\u001b[0;34m\u001b[0m\u001b[0;34m\u001b[0m\u001b[0m\n\u001b[0m\u001b[1;32m      2\u001b[0m \u001b[0mmnA\u001b[0m\u001b[0;34m=\u001b[0m \u001b[0mfloat\u001b[0m\u001b[0;34m(\u001b[0m\u001b[0minput\u001b[0m\u001b[0;34m(\u001b[0m\u001b[0;34m\"Quantos minutos extras foram trabalhados?\"\u001b[0m\u001b[0;34m)\u001b[0m\u001b[0;34m)\u001b[0m\u001b[0;34m\u001b[0m\u001b[0;34m\u001b[0m\u001b[0m\n\u001b[1;32m      3\u001b[0m \u001b[0mganhas\u001b[0m\u001b[0;34m=\u001b[0m \u001b[0mfloat\u001b[0m\u001b[0;34m(\u001b[0m\u001b[0minput\u001b[0m\u001b[0;34m(\u001b[0m\u001b[0;34m\"Quanto você ganha por hora?\"\u001b[0m\u001b[0;34m)\u001b[0m\u001b[0;34m)\u001b[0m\u001b[0;34m\u001b[0m\u001b[0;34m\u001b[0m\u001b[0m\n\u001b[1;32m      4\u001b[0m \u001b[0mMoney\u001b[0m\u001b[0;34m=\u001b[0m \u001b[0mround\u001b[0m\u001b[0;34m(\u001b[0m \u001b[0;34m(\u001b[0m\u001b[0;34m(\u001b[0m\u001b[0;34m(\u001b[0m\u001b[0mhr\u001b[0m\u001b[0;34m+\u001b[0m\u001b[0;34m(\u001b[0m\u001b[0mmnA\u001b[0m\u001b[0;34m/\u001b[0m\u001b[0;36m60\u001b[0m\u001b[0;34m)\u001b[0m\u001b[0;34m)\u001b[0m\u001b[0;34m*\u001b[0m\u001b[0mganhas\u001b[0m\u001b[0;34m)\u001b[0m\u001b[0;34m*\u001b[0m\u001b[0;36m0.7\u001b[0m\u001b[0;34m)\u001b[0m\u001b[0;34m,\u001b[0m\u001b[0;36m2\u001b[0m\u001b[0;34m)\u001b[0m\u001b[0;34m\u001b[0m\u001b[0;34m\u001b[0m\u001b[0m\n\u001b[1;32m      5\u001b[0m \u001b[0mprint\u001b[0m\u001b[0;34m(\u001b[0m\u001b[0;34m\"Você ganhará uma quantidade extra de:\"\u001b[0m\u001b[0;34m,\u001b[0m \u001b[0mMoney\u001b[0m\u001b[0;34m)\u001b[0m\u001b[0;34m\u001b[0m\u001b[0;34m\u001b[0m\u001b[0m\n",
            "\u001b[0;32m/usr/local/lib/python3.10/dist-packages/ipykernel/kernelbase.py\u001b[0m in \u001b[0;36mraw_input\u001b[0;34m(self, prompt)\u001b[0m\n\u001b[1;32m    849\u001b[0m                 \u001b[0;34m\"raw_input was called, but this frontend does not support input requests.\"\u001b[0m\u001b[0;34m\u001b[0m\u001b[0;34m\u001b[0m\u001b[0m\n\u001b[1;32m    850\u001b[0m             )\n\u001b[0;32m--> 851\u001b[0;31m         return self._input_request(str(prompt),\n\u001b[0m\u001b[1;32m    852\u001b[0m             \u001b[0mself\u001b[0m\u001b[0;34m.\u001b[0m\u001b[0m_parent_ident\u001b[0m\u001b[0;34m,\u001b[0m\u001b[0;34m\u001b[0m\u001b[0;34m\u001b[0m\u001b[0m\n\u001b[1;32m    853\u001b[0m             \u001b[0mself\u001b[0m\u001b[0;34m.\u001b[0m\u001b[0m_parent_header\u001b[0m\u001b[0;34m,\u001b[0m\u001b[0;34m\u001b[0m\u001b[0;34m\u001b[0m\u001b[0m\n",
            "\u001b[0;32m/usr/local/lib/python3.10/dist-packages/ipykernel/kernelbase.py\u001b[0m in \u001b[0;36m_input_request\u001b[0;34m(self, prompt, ident, parent, password)\u001b[0m\n\u001b[1;32m    893\u001b[0m             \u001b[0;32mexcept\u001b[0m \u001b[0mKeyboardInterrupt\u001b[0m\u001b[0;34m:\u001b[0m\u001b[0;34m\u001b[0m\u001b[0;34m\u001b[0m\u001b[0m\n\u001b[1;32m    894\u001b[0m                 \u001b[0;31m# re-raise KeyboardInterrupt, to truncate traceback\u001b[0m\u001b[0;34m\u001b[0m\u001b[0;34m\u001b[0m\u001b[0m\n\u001b[0;32m--> 895\u001b[0;31m                 \u001b[0;32mraise\u001b[0m \u001b[0mKeyboardInterrupt\u001b[0m\u001b[0;34m(\u001b[0m\u001b[0;34m\"Interrupted by user\"\u001b[0m\u001b[0;34m)\u001b[0m \u001b[0;32mfrom\u001b[0m \u001b[0;32mNone\u001b[0m\u001b[0;34m\u001b[0m\u001b[0;34m\u001b[0m\u001b[0m\n\u001b[0m\u001b[1;32m    896\u001b[0m             \u001b[0;32mexcept\u001b[0m \u001b[0mException\u001b[0m \u001b[0;32mas\u001b[0m \u001b[0me\u001b[0m\u001b[0;34m:\u001b[0m\u001b[0;34m\u001b[0m\u001b[0;34m\u001b[0m\u001b[0m\n\u001b[1;32m    897\u001b[0m                 \u001b[0mself\u001b[0m\u001b[0;34m.\u001b[0m\u001b[0mlog\u001b[0m\u001b[0;34m.\u001b[0m\u001b[0mwarning\u001b[0m\u001b[0;34m(\u001b[0m\u001b[0;34m\"Invalid Message:\"\u001b[0m\u001b[0;34m,\u001b[0m \u001b[0mexc_info\u001b[0m\u001b[0;34m=\u001b[0m\u001b[0;32mTrue\u001b[0m\u001b[0;34m)\u001b[0m\u001b[0;34m\u001b[0m\u001b[0;34m\u001b[0m\u001b[0m\n",
            "\u001b[0;31mKeyboardInterrupt\u001b[0m: Interrupted by user"
          ]
        }
      ]
    },
    {
      "cell_type": "code",
      "source": [
        "km= float(input(\"Qual a distância que será percorrida:\"))\n",
        "l= float(input(\"Quantos litros seu carro consome por quilômetro:\"))\n",
        "g= float(input(\"qual o preço médio da gasolina?\"))\n",
        "cf= round(l*g*km/100 , 2)\n",
        "print (\"A Quantidade gasta na ida será:\", cf , \"A quantidade gasta em ida e volta será:\" , cf*2)"
      ],
      "metadata": {
        "colab": {
          "base_uri": "https://localhost:8080/"
        },
        "id": "bEw9ps21L_HC",
        "outputId": "3b22d4ab-d7d5-4353-944f-75382a0f014d"
      },
      "execution_count": 18,
      "outputs": [
        {
          "output_type": "stream",
          "name": "stdout",
          "text": [
            "Qual a distância que será percorrida:10\n",
            "Quantos litros seu carro consome por quilômetro:10\n",
            "qual o preço médio da gasolina?10\n",
            "A Quantidade gasta na ida será: 10.0 A quantidade gasta em ida e volta será: 20.0\n"
          ]
        }
      ]
    },
    {
      "cell_type": "code",
      "source": [
        "s= float(input(\"Dê a distância do percurso percorrido:\"))\n",
        "hr= float(input(\"Dê a quantidade de horas gastas no percurso:\"))\n",
        "min= float(input(\"Dê a quantidade de minutos gastos no percurso:\"))\n",
        "vm= round(s/ (hr + min/60) , 2)\n",
        "print (\"Sua velocidade média foi de:\", vm)"
      ],
      "metadata": {
        "colab": {
          "base_uri": "https://localhost:8080/"
        },
        "id": "t8sQD2zrOsno",
        "outputId": "98b3be85-b5bb-47f2-e3e4-c4c2b17758f3"
      },
      "execution_count": 19,
      "outputs": [
        {
          "output_type": "stream",
          "name": "stdout",
          "text": [
            "Dê a distância do percurso percorrido:150\n",
            "Dê a quantidade de horas gastas no percurso:1\n",
            "Dê a quantidade de minutos gastos no percurso:13\n",
            "Sua velocidade média foi de: 123.29\n"
          ]
        }
      ]
    }
  ]
}