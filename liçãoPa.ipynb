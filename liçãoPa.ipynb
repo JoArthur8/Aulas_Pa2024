{
  "nbformat": 4,
  "nbformat_minor": 0,
  "metadata": {
    "colab": {
      "provenance": [],
      "authorship_tag": "ABX9TyOqNNfLwRpLmXoKZtTP5kAS",
      "include_colab_link": true
    },
    "kernelspec": {
      "name": "python3",
      "display_name": "Python 3"
    },
    "language_info": {
      "name": "python"
    }
  },
  "cells": [
    {
      "cell_type": "markdown",
      "metadata": {
        "id": "view-in-github",
        "colab_type": "text"
      },
      "source": [
        "<a href=\"https://colab.research.google.com/github/JoArthur8/Aulas_Pa2024/blob/main/li%C3%A7%C3%A3oPa.ipynb\" target=\"_parent\"><img src=\"https://colab.research.google.com/assets/colab-badge.svg\" alt=\"Open In Colab\"/></a>"
      ]
    },
    {
      "cell_type": "markdown",
      "source": [
        "leia a cotação de dólar. 4,98\n",
        "leia o valor que quer converter em dólar\n",
        "convertaq esse valor para dólar\n",
        "mostre o resultado\n"
      ],
      "metadata": {
        "id": "z0u4p0V1Zosk"
      }
    },
    {
      "cell_type": "code",
      "execution_count": null,
      "metadata": {
        "colab": {
          "base_uri": "https://localhost:8080/"
        },
        "id": "qOcfwy3DY6oD",
        "outputId": "435b756a-f31c-40f7-92ed-1b664e18d659"
      },
      "outputs": [
        {
          "output_type": "stream",
          "name": "stdout",
          "text": [
            "Digite o valor de reais que deseja converter:100\n",
            "O valor convertido é: 20.08032128514056\n"
          ]
        }
      ],
      "source": [
        "dolar= float (4.98)\n",
        "real = float(input(\"Digite o valor de reais que deseja converter:\"))\n",
        "cnv= (real/dolar)\n",
        "print (\"O valor convertido é:\", cnv)"
      ]
    },
    {
      "cell_type": "code",
      "source": [
        "a= float(input(\"Dê o primeiro valor:\"))\n",
        "b= float(input(\"Dê o segundo valor:\"))\n",
        "c= float(input(\"Dê o terceiro valor:\"))\n",
        "d= float(input(\"Dê o quarto valor:\"))\n",
        "e= ((a*a)+(b*b)+(c*c)+(d*d))\n",
        "print (\"A soma de seus quadrados é:\", e)"
      ],
      "metadata": {
        "colab": {
          "base_uri": "https://localhost:8080/"
        },
        "id": "mx1XLuBpcpzN",
        "outputId": "c97e686c-e009-4e33-dd84-6ff2eedb9b5e"
      },
      "execution_count": null,
      "outputs": [
        {
          "output_type": "stream",
          "name": "stdout",
          "text": [
            "Dê o primeiro valor:10\n",
            "Dê o segundo valor:20\n",
            "Dê o terceiro valor:15\n",
            "Dê o quarto valor:12\n",
            "A soma de seus quadrados é: 869.0\n"
          ]
        }
      ]
    },
    {
      "cell_type": "code",
      "source": [
        "valorb= float(input(\"Dê o valor base da peça:\"))\n",
        "qntd= float (input( \"Informe a quantidade vendida:\"))\n",
        "comss= (valorb*qntd) * 0.05\n",
        "print (\"O valor de sua comissão é: \", comss)"
      ],
      "metadata": {
        "colab": {
          "base_uri": "https://localhost:8080/"
        },
        "id": "At0nkFQ2utU2",
        "outputId": "a064704f-a604-408a-cfca-fb7c9282c8cb"
      },
      "execution_count": null,
      "outputs": [
        {
          "output_type": "stream",
          "name": "stdout",
          "text": [
            "Dê o valor base da peça:100\n",
            "Informe a quantidade vendida:1\n",
            "O valor de sua comissão é:  5.0\n"
          ]
        }
      ]
    },
    {
      "cell_type": "code",
      "source": [
        "custoo= float(input(\"Dê o custo de fábrica do carro desejado:\"))\n",
        "dper= 1.28\n",
        "cper= 1.45\n",
        "custoA= custoo*cper\n",
        "custoB= custoA*dper\n",
        "custoC= round(custoB, 2)\n",
        "print(\"O preço final de seu carro é:\", custoC)"
      ],
      "metadata": {
        "colab": {
          "base_uri": "https://localhost:8080/"
        },
        "id": "nR53JOl9C_Q8",
        "outputId": "01af915d-523e-47c6-d287-480542da7196"
      },
      "execution_count": 9,
      "outputs": [
        {
          "output_type": "stream",
          "name": "stdout",
          "text": [
            "Dê o custo de fábrica do carro desejado:21414313\n",
            "O preço final de seu carro é: 39744964.93\n"
          ]
        }
      ]
    },
    {
      "cell_type": "code",
      "source": [
        "a=int (input(\"Digite o valor de horas:\"))\n",
        "b=int (input(\"Digite o valor de minutos:\"))\n",
        "c= a + (b/60)\n",
        "d= c*3600\n",
        "print (\"A quantidade de segundos descrita é de:\", d)\n"
      ],
      "metadata": {
        "colab": {
          "base_uri": "https://localhost:8080/"
        },
        "id": "YXkj5mLPFnG3",
        "outputId": "b16201cb-a5ff-4245-a9a1-29ee8daaf38c"
      },
      "execution_count": 4,
      "outputs": [
        {
          "output_type": "stream",
          "name": "stdout",
          "text": [
            "Digite o valor de horas:1\n",
            "Digite o valor de minutos:0\n",
            "A quantidade de segundos descrita é de: 3600.0\n"
          ]
        }
      ]
    },
    {
      "cell_type": "code",
      "source": [
        "hr= float(input(\"Quantas horas extras foram trabalhadas?\"))\n",
        "mnA= float(input(\"Quantos minutos extras foram trabalhados?\"))\n",
        "ganhas= float(input(\"Quanto você ganha por hora?\"))\n",
        "Money= round( (((hr+(mnA/60))*ganhas)*0.7),2)\n",
        "print(\"Você ganhará uma quantidade extra de:\", Money)"
      ],
      "metadata": {
        "colab": {
          "base_uri": "https://localhost:8080/"
        },
        "id": "1Utm0ehLHpVD",
        "outputId": "48970bf2-46b4-4217-fdea-8b0cffb9210c"
      },
      "execution_count": 14,
      "outputs": [
        {
          "output_type": "stream",
          "name": "stdout",
          "text": [
            "Quantas horas extras foram trabalhadas?2331\n",
            "Quantos minutos extras foram trabalhados?2\n",
            "Quanto você ganha por hora?2341\n",
            "Você ganhará uma quantidade extra de: 3819864.32\n"
          ]
        }
      ]
    },
    {
      "cell_type": "code",
      "source": [
        "km= float(input(\"Qual a distância que será percorrida:\"))\n",
        "l= float(input(\"Quantos litros seu carro consome por quilômetro:\"))\n",
        "g= float(input(\"qual o preço médio da gasolina?\"))\n",
        "cf= round(l*g*km/100 , 2)\n",
        "print (\"A Quantidade gasta na ida será:\", cf , \"A quantidade gasta em ida e volta será:\" , cf*2)"
      ],
      "metadata": {
        "colab": {
          "base_uri": "https://localhost:8080/"
        },
        "id": "bEw9ps21L_HC",
        "outputId": "3b22d4ab-d7d5-4353-944f-75382a0f014d"
      },
      "execution_count": 18,
      "outputs": [
        {
          "output_type": "stream",
          "name": "stdout",
          "text": [
            "Qual a distância que será percorrida:10\n",
            "Quantos litros seu carro consome por quilômetro:10\n",
            "qual o preço médio da gasolina?10\n",
            "A Quantidade gasta na ida será: 10.0 A quantidade gasta em ida e volta será: 20.0\n"
          ]
        }
      ]
    },
    {
      "cell_type": "code",
      "source": [
        "s= float(input(\"Dê a distância do percurso percorrido\"))"
      ],
      "metadata": {
        "id": "t8sQD2zrOsno"
      },
      "execution_count": null,
      "outputs": []
    }
  ]
}