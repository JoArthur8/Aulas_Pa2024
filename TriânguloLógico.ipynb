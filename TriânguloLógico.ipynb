{
  "nbformat": 4,
  "nbformat_minor": 0,
  "metadata": {
    "colab": {
      "provenance": [],
      "authorship_tag": "ABX9TyMiadsNJ6CwvH+Lr4z+0qqI",
      "include_colab_link": true
    },
    "kernelspec": {
      "name": "python3",
      "display_name": "Python 3"
    },
    "language_info": {
      "name": "python"
    }
  },
  "cells": [
    {
      "cell_type": "markdown",
      "metadata": {
        "id": "view-in-github",
        "colab_type": "text"
      },
      "source": [
        "<a href=\"https://colab.research.google.com/github/JoArthur8/Aulas_Pa2024/blob/main/Tri%C3%A2nguloL%C3%B3gico.ipynb\" target=\"_parent\"><img src=\"https://colab.research.google.com/assets/colab-badge.svg\" alt=\"Open In Colab\"/></a>"
      ]
    },
    {
      "cell_type": "code",
      "execution_count": 27,
      "metadata": {
        "colab": {
          "base_uri": "https://localhost:8080/"
        },
        "id": "fbNpn1Z8Svoi",
        "outputId": "d141a50d-ef5c-4fa4-9b41-37be3889834e"
      },
      "outputs": [
        {
          "output_type": "stream",
          "name": "stdout",
          "text": [
            "Dê o valor do primeiro lado:4\n",
            "Dê o valor do segundo lado:4\n",
            "Dê o valor do terceiro lado:6\n",
            "É um triângulo? True\n"
          ]
        }
      ],
      "source": [
        "n1= float(input(\"Dê o valor do primeiro lado:\"))\n",
        "n2= float(input(\"Dê o valor do segundo lado:\"))\n",
        "n3= float(input(\"Dê o valor do terceiro lado:\"))\n",
        "\n",
        "triangulo= (n1+n2>n3) and  (n2+n3>n1) and  (n1+n3>n2)\n",
        "print (\"É um triângulo?\" , triangulo)"
      ]
    },
    {
      "cell_type": "markdown",
      "source": [
        "## Equilatero"
      ],
      "metadata": {
        "id": "a2wtZMDfUUnK"
      }
    },
    {
      "cell_type": "code",
      "source": [
        "equilatero = n1==n2 and n2==n3 and triangulo\n",
        "print (\"É equilatero?\" , equilatero)"
      ],
      "metadata": {
        "colab": {
          "base_uri": "https://localhost:8080/"
        },
        "id": "kB2xjQJiUT2-",
        "outputId": "67be7cc8-4fc4-4b63-d832-8033aa0b7564"
      },
      "execution_count": 28,
      "outputs": [
        {
          "output_type": "stream",
          "name": "stdout",
          "text": [
            "É equilatero? False\n"
          ]
        }
      ]
    },
    {
      "cell_type": "markdown",
      "source": [
        "## Escaleno"
      ],
      "metadata": {
        "id": "PSm0xH8bVFPi"
      }
    },
    {
      "cell_type": "code",
      "source": [
        "escaleno = n1!=n2 and n2!=n3 and triangulo\n",
        "print (\"É escaleno?\" , escaleno)"
      ],
      "metadata": {
        "colab": {
          "base_uri": "https://localhost:8080/"
        },
        "id": "EVvFMIIgVJhv",
        "outputId": "93d532ec-41f5-49b4-a217-5926e255595c"
      },
      "execution_count": 29,
      "outputs": [
        {
          "output_type": "stream",
          "name": "stdout",
          "text": [
            "É escaleno? False\n"
          ]
        }
      ]
    },
    {
      "cell_type": "markdown",
      "source": [
        "## Isósceles"
      ],
      "metadata": {
        "id": "B8-7Jm7TVpUo"
      }
    },
    {
      "cell_type": "code",
      "source": [
        "isosceles = (n1==n2) ^ (n1==n3) and (n2!=n3) or (n2==n3) ^(n2==n1) and triangulo\n",
        "print (\"É Isosceles?\" , isosceles)\n"
      ],
      "metadata": {
        "colab": {
          "base_uri": "https://localhost:8080/"
        },
        "id": "JvjdLb1EVwl0",
        "outputId": "47f632e0-4745-42cb-a963-d8b9b76a4fea"
      },
      "execution_count": 30,
      "outputs": [
        {
          "output_type": "stream",
          "name": "stdout",
          "text": [
            "É Isosceles? True\n"
          ]
        }
      ]
    }
  ]
}