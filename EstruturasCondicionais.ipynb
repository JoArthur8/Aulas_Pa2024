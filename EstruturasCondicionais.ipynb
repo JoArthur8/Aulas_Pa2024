{
  "nbformat": 4,
  "nbformat_minor": 0,
  "metadata": {
    "colab": {
      "provenance": [],
      "authorship_tag": "ABX9TyPpgcueVRgF41YJe4BI+3Ls",
      "include_colab_link": true
    },
    "kernelspec": {
      "name": "python3",
      "display_name": "Python 3"
    },
    "language_info": {
      "name": "python"
    }
  },
  "cells": [
    {
      "cell_type": "markdown",
      "metadata": {
        "id": "view-in-github",
        "colab_type": "text"
      },
      "source": [
        "<a href=\"https://colab.research.google.com/github/JoArthur8/Aulas_Pa2024/blob/main/EstruturasCondicionais.ipynb\" target=\"_parent\"><img src=\"https://colab.research.google.com/assets/colab-badge.svg\" alt=\"Open In Colab\"/></a>"
      ]
    },
    {
      "cell_type": "markdown",
      "source": [
        "#Estruturas condicionais"
      ],
      "metadata": {
        "id": "IWKbw_NzbhIi"
      }
    },
    {
      "cell_type": "code",
      "execution_count": 21,
      "metadata": {
        "colab": {
          "base_uri": "https://localhost:8080/"
        },
        "id": "y59ZxRLzaA0q",
        "outputId": "74cee350-1e51-41f1-fbe3-46273c800c88"
      },
      "outputs": [
        {
          "output_type": "stream",
          "name": "stdout",
          "text": [
            "Digite a primeira nota:8\n",
            "Digite a segunda nota:2\n",
            "Digite a terceira nota:2.5\n",
            "O Aluno está de recuperação\n",
            "Fim do programa\n"
          ]
        }
      ],
      "source": [
        "# Avaliar se o aluno foi aprovado,reprovado ou está de recuperação dependendo de sua média de 3 notas.\n",
        "#Aprovado media>5\n",
        "#Reprovado media<4\n",
        "#De Recuperção media entre 4 e 5\n",
        "\n",
        "n1= float(input(\"Digite a primeira nota:\"))\n",
        "n2= float(input(\"Digite a segunda nota:\"))\n",
        "n3= float(input(\"Digite a terceira nota:\"))\n",
        "media= (n1+n2+n3)/3\n",
        "\n",
        "if (media>5):\n",
        "  print (\"O Aluno foi aprovado\" )\n",
        "else:\n",
        "  if (media<4):\n",
        "    print (\"O Aluno foi reprovado\")\n",
        "  else:\n",
        "    print (\"O Aluno está de recuper\n",
        "    ação\")\n",
        "print (\"Fim do programa\")"
      ]
    }
  ]
}